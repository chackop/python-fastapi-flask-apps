{
 "cells": [
  {
   "cell_type": "code",
   "execution_count": null,
   "id": "63ecd7c6",
   "metadata": {},
   "outputs": [],
   "source": [
    "from sqlalchemy import create_engine"
   ]
  },
  {
   "cell_type": "code",
   "execution_count": null,
   "id": "72c1a6be",
   "metadata": {},
   "outputs": [],
   "source": [
    "engine = create_engine(\"sqlite:///landon.sqlite\")"
   ]
  },
  {
   "cell_type": "code",
   "execution_count": null,
   "id": "17b35da8",
   "metadata": {},
   "outputs": [],
   "source": [
    "import pandas as pd"
   ]
  },
  {
   "cell_type": "code",
   "execution_count": null,
   "id": "c5d1db01",
   "metadata": {},
   "outputs": [],
   "source": [
    "sales_df = pd.read_sql_table(\"sales\", con=engine.connect(), index_col=\"order_id\")"
   ]
  },
  {
   "cell_type": "code",
   "execution_count": null,
   "id": "259ffb36",
   "metadata": {},
   "outputs": [],
   "source": [
    "sales_df.sort_values(\"order_total\")"
   ]
  },
  {
   "cell_type": "code",
   "execution_count": null,
   "id": "ca9720a4",
   "metadata": {},
   "outputs": [],
   "source": [
    "sales_df[\"property_state\"].value_counts()"
   ]
  },
  {
   "cell_type": "code",
   "execution_count": null,
   "id": "4cc7230f",
   "metadata": {},
   "outputs": [],
   "source": [
    "import matplotlib.pyplot as plt"
   ]
  },
  {
   "cell_type": "code",
   "execution_count": null,
   "id": "4a26574e",
   "metadata": {},
   "outputs": [],
   "source": [
    "plt.pie(sales_df[\"property_state\"].value_counts().head(10), \n",
    "        labels=sales_df[\"property_state\"].value_counts().head(10).index.tolist())"
   ]
  },
  {
   "cell_type": "code",
   "execution_count": null,
   "id": "fe4cc486",
   "metadata": {},
   "outputs": [],
   "source": []
  },
  {
   "cell_type": "code",
   "execution_count": null,
   "id": "0cae93d8",
   "metadata": {},
   "outputs": [],
   "source": []
  }
 ],
 "metadata": {
  "kernelspec": {
   "display_name": "Python 3 (ipykernel)",
   "language": "python",
   "name": "python3"
  },
  "language_info": {
   "codemirror_mode": {
    "name": "ipython",
    "version": 3
   },
   "file_extension": ".py",
   "mimetype": "text/x-python",
   "name": "python",
   "nbconvert_exporter": "python",
   "pygments_lexer": "ipython3",
   "version": "3.11.5"
  }
 },
 "nbformat": 4,
 "nbformat_minor": 5
}
